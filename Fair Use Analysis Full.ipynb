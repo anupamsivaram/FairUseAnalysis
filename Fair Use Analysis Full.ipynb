{
 "cells": [
  {
   "cell_type": "markdown",
   "id": "d7130808",
   "metadata": {},
   "source": [
    "**Analysis of US Fair Use Claim Outcomes Project**\n",
    "\n",
    "By: Anupam Sivaram"
   ]
  },
  {
   "cell_type": "markdown",
   "id": "c8b42769",
   "metadata": {},
   "source": [
    "# Motivation for the Project\n",
    "\n",
    "I've been very inspired by the advent of technology into the law: Estonia is now experimenting with ML-powered virtual judges for small claims (appealable to a human judge), and Thomas Reuters recently completed a $655mm acquisition of Casetext, which is built on top of GPT-4's API and, among other things, generates legal research and procedure. These progresses have the potential to greatly enhance certainty in legal outcomes, and test the boundaries between objectivity and subjectivity in our social order. \n",
    "\n",
    "With this project, I will investigate some of the issues that a legal prediction model would encounter when dealing with facts of a case. US fair use is an interesting area of law, because it generally follows the same 4-question framework, but outcomes vary widely. For example, sometimes a \"substantial taking\" of an original work will be fatal to a fair use claim, whereas in other cases, its finding is considered far less important than another aspect of the test. I believe that this investigation will ground the construction of solid prediction models that take these issues into account. "
   ]
  },
  {
   "cell_type": "markdown",
   "id": "2ddc876d",
   "metadata": {},
   "source": [
    "# Initial Hypothesis and Questions to Answer\n",
    "\n",
    "My initial hypothesis is:\n",
    "\n",
    "*   Controlling for jurisdiction or issues faced in the case will not be sufficient to predict the outcome of a case.\n",
    "\n",
    "\n",
    "I hope to answer the following questions by the end of this project:\n",
    "\n",
    "1. For machine learning powered analyses of the law, what kinds of categorical or long-form text data can be converted to numerical data?\n",
    "2. What might cause confusion for our prediction models in this area?\n",
    "3. What kinds of prediction models generally perform well for this type of analysis? "
   ]
  },
  {
   "cell_type": "markdown",
   "id": "4b1ecad9",
   "metadata": {},
   "source": [
    "# Import Libraries"
   ]
  },
  {
   "cell_type": "code",
   "execution_count": 2,
   "id": "f3bfb1c0",
   "metadata": {},
   "outputs": [
    {
     "name": "stdout",
     "output_type": "stream",
     "text": [
      "Requirement already satisfied: joblib in ./anaconda3/lib/python3.11/site-packages (1.2.0)\n",
      "Requirement already satisfied: xgboost in ./anaconda3/lib/python3.11/site-packages (2.0.1)\n",
      "Requirement already satisfied: numpy in ./anaconda3/lib/python3.11/site-packages (from xgboost) (1.24.3)\n",
      "Requirement already satisfied: scipy in ./anaconda3/lib/python3.11/site-packages (from xgboost) (1.11.1)\n",
      "Done.\n"
     ]
    }
   ],
   "source": [
    "!pip install joblib\n",
    "!pip install xgboost\n",
    "import joblib\n",
    "import json\n",
    "print(\"Done.\")"
   ]
  },
  {
   "cell_type": "code",
   "execution_count": 3,
   "id": "7810f417",
   "metadata": {},
   "outputs": [
    {
     "name": "stdout",
     "output_type": "stream",
     "text": [
      "Done.\n"
     ]
    }
   ],
   "source": [
    "from IPython.utils import io\n",
    "\n",
    "import numpy as np\n",
    "import pywt\n",
    "import cv2\n",
    "import matplotlib\n",
    "import matplotlib.pyplot as plt\n",
    "%matplotlib inline\n",
    "matplotlib.rcParams[\"figure.figsize\"] = (20,10)\n",
    "import pandas as pd\n",
    "import seaborn as sn\n",
    "\n",
    "import os\n",
    "import shutil\n",
    "\n",
    "from sklearn.preprocessing import StandardScaler\n",
    "from sklearn.pipeline import Pipeline\n",
    "from sklearn.pipeline import make_pipeline\n",
    "from sklearn.metrics import classification_report\n",
    "\n",
    "from sklearn.model_selection import train_test_split\n",
    "from sklearn.model_selection import cross_val_score\n",
    "from sklearn.model_selection import GridSearchCV\n",
    "from sklearn.model_selection import RandomizedSearchCV\n",
    "from sklearn.naive_bayes import GaussianNB\n",
    "from sklearn.svm import SVC\n",
    "from sklearn.ensemble import RandomForestClassifier\n",
    "from sklearn.neighbors import KNeighborsClassifier\n",
    "from sklearn import tree\n",
    "from sklearn.metrics import confusion_matrix\n",
    "from sklearn.linear_model import LogisticRegression\n",
    "from sklearn.neighbors import KNeighborsClassifier\n",
    "from xgboost import XGBClassifier\n",
    "from sklearn.ensemble import VotingClassifier\n",
    "\n",
    "print(\"Done.\")"
   ]
  },
  {
   "cell_type": "markdown",
   "id": "ad1e7f53",
   "metadata": {},
   "source": [
    "# Data Collection: Import Raw Data\n",
    "\n",
    "I obtained my data from this Kaggle set: https://www.kaggle.com/datasets/sujaykapadnis/copyrights-fair-use-index\n",
    "\n",
    "Because it was quicker to do so manually, given that this set is quite small, I manually omitted any cases decided prior to 1977, to account for the implementation of the Copyright Act of 1976. "
   ]
  },
  {
   "cell_type": "code",
   "execution_count": 19,
   "id": "4e9898fb",
   "metadata": {},
   "outputs": [
    {
     "data": {
      "text/plain": [
       "<bound method NDFrame.head of                                                  title  \\\n",
       "0      N.Y. Times Co. v. Roxbury Data Interface, Inc.,   \n",
       "1                   Walt Disney Prods. v. Air Pirates,   \n",
       "2    Dall. Cowboys Cheerleaders, Inc. v. Scoreboard...   \n",
       "3                 DC Comics Inc. v. Crazy Eddie, Inc.,   \n",
       "4    Triangle Publ’ns, Inc. v. Knight-Ridder Newspa...   \n",
       "..                                                 ...   \n",
       "194                                Monsarrat v. Newman   \n",
       "195       Bell v. Eagle Mt. Saginaw Indep. Sch. Distr.   \n",
       "196                              De Fontbrune v. Wofsy   \n",
       "197                     Viacom Int’l v. Pixi Universal   \n",
       "198  Matthew Lombardo and Who’s Holiday LLC v. Dr. ...   \n",
       "\n",
       "                                           case_number                 year  \\\n",
       "0                       434 F. Supp. 217 (D.N.J. 1977)                 1977   \n",
       "1    581 F.2d 751 (9th Cir. 1978), cert. denied, 43...                 1978   \n",
       "2                        600 F.2d 1184 (5th Cir. 1979)                 1979   \n",
       "3         No. 79 Civ. 3786-PNL (S.D.N.Y. Aug. 3, 1979)                 1979   \n",
       "4                        626 F.2d 1171 (5th Cir. 1980)                 1980   \n",
       "..                                                 ...                  ...   \n",
       "194                       28 F.4th 314 (1st Cir. 2022)                 2022   \n",
       "195                       27 F.4th 313 (5th Cir. 2022)                 2022   \n",
       "196                      39 F.4th 1214 (9th Cir. 2022)                 2022   \n",
       "197  Civ. Action No H-21-2612, 2022 U.S. Dist. LEXI...                 2022   \n",
       "198  No. 1:16-cv-09974-AKH (S.D.N.Y. Sept. 15, 2017...  2017, affirmed 2018   \n",
       "\n",
       "                                                 court  \\\n",
       "0    United States District Court for the District ...   \n",
       "1    United States Court of Appeals for the Ninth C...   \n",
       "2    United States Court of Appeals for the Fifth C...   \n",
       "3    United States District Court for the Southern ...   \n",
       "4    United States Court of Appeals for the Fifth C...   \n",
       "..                                                 ...   \n",
       "194  United States Court of Appeals for the First C...   \n",
       "195  United States Court of Appeals for the Fifth C...   \n",
       "196  United States Court of Appeals for the Ninth C...   \n",
       "197  United States District Court for the Southern ...   \n",
       "198  United States District Court for the Southern ...   \n",
       "\n",
       "                                             key_facts  \\\n",
       "0    Plaintiffs, who are affiliated with and respon...   \n",
       "1    Plaintiff Walt Disney Productions alleged that...   \n",
       "2    Plaintiffs the Dallas Cowboys Cheerleaders, In...   \n",
       "3    Plaintiff D.C. Comics, Inc. owned multiple cop...   \n",
       "4    Defendant-appellee Knight-Ridder Newspapers, I...   \n",
       "..                                                 ...   \n",
       "194  In 2010, Plaintiff Jonathan Monsarrat created ...   \n",
       "195  Plaintiff Dr. Keith Bell, a sports psychologis...   \n",
       "196  Plaintiffs own the rights to a catalogue compr...   \n",
       "197  Plaintiff Viacom International Inc. (“Viacom”)...   \n",
       "198  Plaintiff Matthew Lombardo authored the play W...   \n",
       "\n",
       "                                                 issue  \\\n",
       "0    Whether defendants’ unauthorized copying of na...   \n",
       "1    Whether defendants’ graphic depiction of plain...   \n",
       "2    Whether the district court abused its discreti...   \n",
       "3    Whether making an advertisement for a business...   \n",
       "4    Whether defendant’s unauthorized reproduction ...   \n",
       "..                                                 ...   \n",
       "194  Whether copying a post from one social network...   \n",
       "195  Whether use of a motivational passage excerpte...   \n",
       "196  Whether reproduction of photographs documentin...   \n",
       "197  Whether using elements of copyrighted works to...   \n",
       "198  Whether Plaintiffs’ use of elements from Grinc...   \n",
       "\n",
       "                                                  tags             outcome  \\\n",
       "0    Third Circuit; Education/Scholarship/Research;...      Fair use found   \n",
       "1    Ninth Circuit; Parody/Satire; Painting/Drawing...  Fair use not found   \n",
       "2             Fifth Circuit; Parody/Satire; Photograph  Fair use not found   \n",
       "3      Second Circuit; Film/Audiovisual; Parody/Satire  Fair use not found   \n",
       "4                          Fifth Circuit; Textual work      Fair use found   \n",
       "..                                                 ...                 ...   \n",
       "194                Internet/Digitization; Textual Work      Fair use found   \n",
       "195  Educational/Scholarship/Research; Internet/Dig...      Fair use found   \n",
       "196         Education/Scholarship/Research; Photograph  Fair use not found   \n",
       "197            Painting/Drawing/Graphic; Parody/Satire  Fair use not found   \n",
       "198        Second Circuit; Parody/Satire; Textual work      Fair use found   \n",
       "\n",
       "                                               holding  \n",
       "0    The court held that defendants’ use of data fr...  \n",
       "1    After determining that the 1909 Copyright Act ...  \n",
       "2    The Fifth Circuit held that the district court...  \n",
       "3    The court held that the defendant’s advertisem...  \n",
       "4    The court held that defendant’s reproduction a...  \n",
       "..                                                 ...  \n",
       "194  Considering the first fair use factor, the pur...  \n",
       "195  Although Defendant conceded that the school’s ...  \n",
       "196  The panel held that the first factor, the purp...  \n",
       "197  The court decided that the first factor, the p...  \n",
       "198  Following its four-step fair use analysis, the...  \n",
       "\n",
       "[199 rows x 9 columns]>"
      ]
     },
     "execution_count": 19,
     "metadata": {},
     "output_type": "execute_result"
    }
   ],
   "source": [
    "df1 = pd.read_csv('/Users/anupamsivaram/Desktop/Amended Fair Use Findings.csv')\n",
    "df1.head"
   ]
  },
  {
   "cell_type": "markdown",
   "id": "f2c9644a",
   "metadata": {},
   "source": [
    "# Data Cleaning\n",
    "\n",
    "At this stage, I will drop any unnecessary columns and create a new column to collect binary outcomes: Fair use was found, or it wasn't. "
   ]
  },
  {
   "cell_type": "code",
   "execution_count": 22,
   "id": "ec571058",
   "metadata": {},
   "outputs": [
    {
     "data": {
      "text/plain": [
       "outcome\n",
       "Fair Use Found; mixed result                           1\n",
       "Fair Use Not Found                                     1\n",
       "Fair use found                                        95\n",
       "Fair use found.                                        1\n",
       "Fair use found; Second Circuit affirmed on appeal.     1\n",
       "Fair use not found                                    94\n",
       "Fair use not found, Preliminary ruling                 1\n",
       "Fair use not found, preliminary ruling                 2\n",
       "Fair use not found.                                    1\n",
       "Fair use not found; Preliminary ruling                 2\n",
       "Name: outcome, dtype: int64"
      ]
     },
     "execution_count": 22,
     "metadata": {},
     "output_type": "execute_result"
    }
   ],
   "source": [
    "# Reading the outcome column to see findings of Fair Use.\n",
    "\n",
    "df1.shape\n",
    "df1.groupby('outcome')['outcome'].agg('count')"
   ]
  },
  {
   "cell_type": "code",
   "execution_count": 24,
   "id": "7819bf0b",
   "metadata": {},
   "outputs": [
    {
     "data": {
      "text/plain": [
       "outcome2\n",
       "0    101\n",
       "1     98\n",
       "Name: outcome2, dtype: int64"
      ]
     },
     "execution_count": 24,
     "metadata": {},
     "output_type": "execute_result"
    }
   ],
   "source": [
    "import pandas as pd\n",
    "import re\n",
    "\n",
    "def categorize_outcome(text):\n",
    "    text_lower = text.lower()\n",
    "    \n",
    "    if re.search(r'\\bfair use found\\b', text_lower):\n",
    "        return '1'\n",
    "    elif re.search(r'\\bfair use not found\\b', text_lower):\n",
    "        return '0'\n",
    "    else:\n",
    "        return 'UNCATEGORIZED'\n",
    "\n",
    "df1['outcome2'] = df1['outcome'].apply(categorize_outcome)\n",
    "\n",
    "df1.groupby('outcome2')['outcome2'].agg('count')"
   ]
  },
  {
   "cell_type": "code",
   "execution_count": 25,
   "id": "1fa174e0",
   "metadata": {},
   "outputs": [
    {
     "data": {
      "text/plain": [
       "<bound method NDFrame.head of                                                  title                 year  \\\n",
       "0      N.Y. Times Co. v. Roxbury Data Interface, Inc.,                 1977   \n",
       "1                   Walt Disney Prods. v. Air Pirates,                 1978   \n",
       "2    Dall. Cowboys Cheerleaders, Inc. v. Scoreboard...                 1979   \n",
       "3                 DC Comics Inc. v. Crazy Eddie, Inc.,                 1979   \n",
       "4    Triangle Publ’ns, Inc. v. Knight-Ridder Newspa...                 1980   \n",
       "..                                                 ...                  ...   \n",
       "194                                Monsarrat v. Newman                 2022   \n",
       "195       Bell v. Eagle Mt. Saginaw Indep. Sch. Distr.                 2022   \n",
       "196                              De Fontbrune v. Wofsy                 2022   \n",
       "197                     Viacom Int’l v. Pixi Universal                 2022   \n",
       "198  Matthew Lombardo and Who’s Holiday LLC v. Dr. ...  2017, affirmed 2018   \n",
       "\n",
       "                                                 court             outcome  \\\n",
       "0    United States District Court for the District ...      Fair use found   \n",
       "1    United States Court of Appeals for the Ninth C...  Fair use not found   \n",
       "2    United States Court of Appeals for the Fifth C...  Fair use not found   \n",
       "3    United States District Court for the Southern ...  Fair use not found   \n",
       "4    United States Court of Appeals for the Fifth C...      Fair use found   \n",
       "..                                                 ...                 ...   \n",
       "194  United States Court of Appeals for the First C...      Fair use found   \n",
       "195  United States Court of Appeals for the Fifth C...      Fair use found   \n",
       "196  United States Court of Appeals for the Ninth C...  Fair use not found   \n",
       "197  United States District Court for the Southern ...  Fair use not found   \n",
       "198  United States District Court for the Southern ...      Fair use found   \n",
       "\n",
       "                                               holding outcome2  \n",
       "0    The court held that defendants’ use of data fr...        1  \n",
       "1    After determining that the 1909 Copyright Act ...        0  \n",
       "2    The Fifth Circuit held that the district court...        0  \n",
       "3    The court held that the defendant’s advertisem...        0  \n",
       "4    The court held that defendant’s reproduction a...        1  \n",
       "..                                                 ...      ...  \n",
       "194  Considering the first fair use factor, the pur...        1  \n",
       "195  Although Defendant conceded that the school’s ...        1  \n",
       "196  The panel held that the first factor, the purp...        0  \n",
       "197  The court decided that the first factor, the p...        0  \n",
       "198  Following its four-step fair use analysis, the...        1  \n",
       "\n",
       "[199 rows x 6 columns]>"
      ]
     },
     "execution_count": 25,
     "metadata": {},
     "output_type": "execute_result"
    }
   ],
   "source": [
    "df2 = df1.drop(['case_number','key_facts','issue','tags'],axis='columns')\n",
    "df2.head"
   ]
  },
  {
   "cell_type": "code",
   "execution_count": 26,
   "id": "c3dcd761",
   "metadata": {
    "scrolled": true
   },
   "outputs": [
    {
     "data": {
      "text/plain": [
       "court\n",
       "Supreme Court of the United States                                        4\n",
       "U.S. District Court for the Eastern District of New York                  1\n",
       "United State District Court for the District of Nevada                    1\n",
       "United Stated Court of Appeals for the Second Circuit                     1\n",
       "United States Court of Appeal for the Fifth Circuit                       1\n",
       "United States Court of Appeal for the Second Circuit                      1\n",
       "United States Court of Appeals for the Central District of California     1\n",
       "United States Court of Appeals for the District of Columbia               1\n",
       "United States Court of Appeals for the Eastern District of Virginia       1\n",
       "United States Court of Appeals for the Eleventh Circuit                   5\n",
       "United States Court of Appeals for the Federal Circuit                    1\n",
       "United States Court of Appeals for the Fifth Circuit                      3\n",
       "United States Court of Appeals for the First Circuit                      4\n",
       "United States Court of Appeals for the Fourth Circuit                     6\n",
       "United States Court of Appeals for the Ninth Circuit                     29\n",
       "United States Court of Appeals for the Second Circuit                    30\n",
       "United States Court of Appeals for the Seventh Circuit                    3\n",
       "United States Court of Appeals for the Sixth Circuit                      4\n",
       "United States Court of Appeals for the Tenth Circuit                      1\n",
       "United States Court of Appeals for the Third Circuit                      2\n",
       "United States Court of Federal Claims                                     1\n",
       "United States District Court Southern District of New York                1\n",
       "United States District Court for District of Arizona                      1\n",
       "United States District Court for the Central District of California      13\n",
       "United States District Court for the District of Colorado                 1\n",
       "United States District Court for the District of Columbia                 1\n",
       "United States District Court for the District of Delaware                 1\n",
       "United States District Court for the District of Massachusetts            4\n",
       "United States District Court for the District of Minnesota                1\n",
       "United States District Court for the District of Montana                  1\n",
       "United States District Court for the District of Nevada                   4\n",
       "United States District Court for the District of New Jersey               2\n",
       "United States District Court for the District of Puerto Rico              1\n",
       "United States District Court for the Eastern District of Michigan         1\n",
       "United States District Court for the Eastern District of Missouri         1\n",
       "United States District Court for the Eastern District of New York         2\n",
       "United States District Court for the Eastern District of Pennsylvania     2\n",
       "United States District Court for the Eastern District of Tennessee        1\n",
       "United States District Court for the Eastern District of Texas            1\n",
       "United States District Court for the Eastern District of Virginia         2\n",
       "United States District Court for the Fifth Circuit                        1\n",
       "United States District Court for the Middle District of Tennessee         2\n",
       "United States District Court for the Northern District of California      4\n",
       "United States District Court for the Northern District of Georgia         2\n",
       "United States District Court for the Northern District of Illinois        5\n",
       "United States District Court for the Northern District of Mississippi     1\n",
       "United States District Court for the Southern District of Florida         1\n",
       "United States District Court for the Southern District of New York       37\n",
       "United States District Court for the Southern District of Ohio            1\n",
       "United States District Court for the Southern District of Texas           1\n",
       "United States District Court for the Western District of Virginia         1\n",
       "United States District Court for the Western District of Wisconsin        1\n",
       "Name: court, dtype: int64"
      ]
     },
     "execution_count": 26,
     "metadata": {},
     "output_type": "execute_result"
    }
   ],
   "source": [
    "# As part of data cleaning, we'll ensure that no values have been omitted.\n",
    "\n",
    "df2.isnull().sum()\n",
    "\n",
    "df1.groupby('court')['court'].agg('count')"
   ]
  },
  {
   "cell_type": "code",
   "execution_count": 27,
   "id": "d29d76e8",
   "metadata": {},
   "outputs": [
    {
     "data": {
      "text/plain": [
       "circuit\n",
       "District Court      100\n",
       "Eleventh Circuit      5\n",
       "Fifth Circuit         4\n",
       "First Circuit         4\n",
       "Fourth Circuit        6\n",
       "Ninth Circuit        29\n",
       "Second Circuit       32\n",
       "Seventh Circuit       3\n",
       "Sixth Circuit         4\n",
       "Supreme Court         4\n",
       "Tenth Circuit         1\n",
       "Third Circuit         2\n",
       "UNCATEGORIZED         5\n",
       "Name: circuit, dtype: int64"
      ]
     },
     "execution_count": 27,
     "metadata": {},
     "output_type": "execute_result"
    }
   ],
   "source": [
    "# Here, we'll combine any circuits that are the same.\n",
    "# Our data only goes up to the 11th circuit. \n",
    "\n",
    "import pandas as pd\n",
    "import re\n",
    "\n",
    "def categorize_circuit(text):\n",
    "    text_lower = text.lower()\n",
    "    \n",
    "    if re.search(r'\\bsupreme court\\b', text_lower):\n",
    "        return 'Supreme Court'\n",
    "    elif re.search(r'\\bdistrict court\\b', text_lower):\n",
    "        return 'District Court'\n",
    "    elif re.search(r'\\bfirst circuit\\b', text_lower):\n",
    "        return 'First Circuit'\n",
    "    elif re.search(r'\\bsecond circuit\\b', text_lower):\n",
    "        return 'Second Circuit'\n",
    "    elif re.search(r'\\bthird circuit\\b', text_lower):\n",
    "        return 'Third Circuit'\n",
    "    elif re.search(r'\\bfourth circuit\\b', text_lower):\n",
    "        return 'Fourth Circuit'\n",
    "    elif re.search(r'\\bfifth circuit\\b', text_lower):\n",
    "        return 'Fifth Circuit'\n",
    "    elif re.search(r'\\bsixth circuit\\b', text_lower):\n",
    "        return 'Sixth Circuit'\n",
    "    elif re.search(r'\\bseventh circuit\\b', text_lower):\n",
    "        return 'Seventh Circuit'\n",
    "    elif re.search(r'\\beighth circuit\\b', text_lower):\n",
    "        return 'Eighth Circuit'\n",
    "    elif re.search(r'\\bninth circuit\\b', text_lower):\n",
    "        return 'Ninth Circuit'\n",
    "    elif re.search(r'\\btenth circuit\\b', text_lower):\n",
    "        return 'Tenth Circuit'\n",
    "    elif re.search(r'\\beleventh circuit\\b', text_lower):\n",
    "        return 'Eleventh Circuit'\n",
    "    else:\n",
    "        return 'UNCATEGORIZED'\n",
    "\n",
    "df2['circuit'] = df2['court'].apply(categorize_circuit)\n",
    "\n",
    "df2.groupby('circuit')['circuit'].agg('count')"
   ]
  },
  {
   "cell_type": "code",
   "execution_count": 28,
   "id": "d102921e",
   "metadata": {},
   "outputs": [
    {
     "data": {
      "text/html": [
       "<div>\n",
       "<style scoped>\n",
       "    .dataframe tbody tr th:only-of-type {\n",
       "        vertical-align: middle;\n",
       "    }\n",
       "\n",
       "    .dataframe tbody tr th {\n",
       "        vertical-align: top;\n",
       "    }\n",
       "\n",
       "    .dataframe thead th {\n",
       "        text-align: right;\n",
       "    }\n",
       "</style>\n",
       "<table border=\"1\" class=\"dataframe\">\n",
       "  <thead>\n",
       "    <tr style=\"text-align: right;\">\n",
       "      <th></th>\n",
       "      <th>title</th>\n",
       "      <th>year</th>\n",
       "      <th>court</th>\n",
       "      <th>outcome</th>\n",
       "      <th>holding</th>\n",
       "      <th>outcome2</th>\n",
       "      <th>circuit</th>\n",
       "    </tr>\n",
       "  </thead>\n",
       "  <tbody>\n",
       "    <tr>\n",
       "      <th>20</th>\n",
       "      <td>Radji v. Khakbaz,</td>\n",
       "      <td>1985</td>\n",
       "      <td>United States Court of Appeals for the Distric...</td>\n",
       "      <td>Fair use not found</td>\n",
       "      <td>The court held that defendants’ unauthorized u...</td>\n",
       "      <td>0</td>\n",
       "      <td>UNCATEGORIZED</td>\n",
       "    </tr>\n",
       "    <tr>\n",
       "      <th>51</th>\n",
       "      <td>Metro-Goldwyn-Mayer, Inc. v. Am. Honda Motor C...</td>\n",
       "      <td>1995</td>\n",
       "      <td>United States Court of Appeals for the Central...</td>\n",
       "      <td>Fair use not found</td>\n",
       "      <td>The court granted MGM a preliminary injunction...</td>\n",
       "      <td>0</td>\n",
       "      <td>UNCATEGORIZED</td>\n",
       "    </tr>\n",
       "    <tr>\n",
       "      <th>92</th>\n",
       "      <td>Tavory v. NTP, Inc.,</td>\n",
       "      <td>2007</td>\n",
       "      <td>United States Court of Appeals for the Eastern...</td>\n",
       "      <td>Fair use found</td>\n",
       "      <td>The court held that the litigation-related con...</td>\n",
       "      <td>1</td>\n",
       "      <td>UNCATEGORIZED</td>\n",
       "    </tr>\n",
       "    <tr>\n",
       "      <th>105</th>\n",
       "      <td>Gaylord v. United States,</td>\n",
       "      <td>2010</td>\n",
       "      <td>United States Court of Appeals for the Federal...</td>\n",
       "      <td>Fair use not found</td>\n",
       "      <td>The appellate court held that putting an image...</td>\n",
       "      <td>0</td>\n",
       "      <td>UNCATEGORIZED</td>\n",
       "    </tr>\n",
       "    <tr>\n",
       "      <th>158</th>\n",
       "      <td>Davidson v. United States</td>\n",
       "      <td>2018</td>\n",
       "      <td>United States Court of Federal Claims</td>\n",
       "      <td>Fair use not found</td>\n",
       "      <td>The court determined that the government’s use...</td>\n",
       "      <td>0</td>\n",
       "      <td>UNCATEGORIZED</td>\n",
       "    </tr>\n",
       "  </tbody>\n",
       "</table>\n",
       "</div>"
      ],
      "text/plain": [
       "                                                 title  year  \\\n",
       "20                                   Radji v. Khakbaz,  1985   \n",
       "51   Metro-Goldwyn-Mayer, Inc. v. Am. Honda Motor C...  1995   \n",
       "92                                Tavory v. NTP, Inc.,  2007   \n",
       "105                          Gaylord v. United States,  2010   \n",
       "158                          Davidson v. United States  2018   \n",
       "\n",
       "                                                 court             outcome  \\\n",
       "20   United States Court of Appeals for the Distric...  Fair use not found   \n",
       "51   United States Court of Appeals for the Central...  Fair use not found   \n",
       "92   United States Court of Appeals for the Eastern...      Fair use found   \n",
       "105  United States Court of Appeals for the Federal...  Fair use not found   \n",
       "158              United States Court of Federal Claims  Fair use not found   \n",
       "\n",
       "                                               holding outcome2        circuit  \n",
       "20   The court held that defendants’ unauthorized u...        0  UNCATEGORIZED  \n",
       "51   The court granted MGM a preliminary injunction...        0  UNCATEGORIZED  \n",
       "92   The court held that the litigation-related con...        1  UNCATEGORIZED  \n",
       "105  The appellate court held that putting an image...        0  UNCATEGORIZED  \n",
       "158  The court determined that the government’s use...        0  UNCATEGORIZED  "
      ]
     },
     "execution_count": 28,
     "metadata": {},
     "output_type": "execute_result"
    }
   ],
   "source": [
    "# Looking for stragglers that missed my labels. \n",
    "\n",
    "df2[df2.circuit=='UNCATEGORIZED']\n",
    "\n",
    "# It looks like these are subject matter jurisdictions that are not bound by geography.\n",
    "# So, we can leave them alone in the Uncategorized circuit. "
   ]
  },
  {
   "cell_type": "code",
   "execution_count": 30,
   "id": "942e6ccf",
   "metadata": {},
   "outputs": [
    {
     "name": "stdout",
     "output_type": "stream",
     "text": [
      "market\n",
      "0     32\n",
      "1    167\n",
      "Name: market, dtype: int64\n",
      "purpose\n",
      "0     70\n",
      "1    129\n",
      "Name: purpose, dtype: int64\n",
      "transformative\n",
      "0     86\n",
      "1    113\n",
      "Name: transformative, dtype: int64\n",
      "commercial\n",
      "0     93\n",
      "1    106\n",
      "Name: commercial, dtype: int64\n",
      "harm\n",
      "0    157\n",
      "1     42\n",
      "Name: harm, dtype: int64\n"
     ]
    }
   ],
   "source": [
    "# We'll do the same for the holdings. \n",
    "# We'll be looking for cases that discuss a certain issue pertaining to fair use. \n",
    "# This could be useful in research, to see where an issue was brought up but did not necessarily and unilaterally dictate the case's outcome.\n",
    "\n",
    "def categorize_market(text):\n",
    "    text_lower = text.lower()\n",
    "    \n",
    "    if re.search(r'\\bmarket\\b', text_lower):\n",
    "        return 1\n",
    "    else:\n",
    "        return 0\n",
    "    \n",
    "def categorize_purpose(text):\n",
    "    text_lower = text.lower()\n",
    "    \n",
    "    if re.search(r'\\bpurpose\\b', text_lower):\n",
    "        return 1\n",
    "    else:\n",
    "        return 0\n",
    "    \n",
    "def categorize_transformative(text):\n",
    "    text_lower = text.lower()\n",
    "    \n",
    "    if re.search(r'\\btransformative\\b', text_lower):\n",
    "        return 1\n",
    "    else:\n",
    "        return 0\n",
    "    \n",
    "def categorize_commercial(text):\n",
    "    text_lower = text.lower()\n",
    "    \n",
    "    if re.search(r'\\bcommercial\\b', text_lower):\n",
    "        return 1\n",
    "    else:\n",
    "        return 0\n",
    "    \n",
    "def categorize_harm(text):\n",
    "    text_lower = text.lower()\n",
    "    \n",
    "    if re.search(r'\\bharm\\b', text_lower):\n",
    "        return 1\n",
    "    else:\n",
    "        return 0\n",
    "    \n",
    "df2['market'] = df2['holding'].apply(categorize_market)\n",
    "df2['purpose'] = df2['holding'].apply(categorize_purpose)\n",
    "df2['transformative'] = df2['holding'].apply(categorize_transformative)\n",
    "df2['commercial'] = df2['holding'].apply(categorize_commercial)\n",
    "df2['harm'] = df2['holding'].apply(categorize_harm)\n",
    "\n",
    "print(df2.groupby('market')['market'].agg('count'))\n",
    "print(df2.groupby('purpose')['purpose'].agg('count'))\n",
    "print(df2.groupby('transformative')['transformative'].agg('count'))\n",
    "print(df2.groupby('commercial')['commercial'].agg('count'))\n",
    "print(df2.groupby('harm')['harm'].agg('count'))"
   ]
  },
  {
   "cell_type": "markdown",
   "id": "9a4dd0f7",
   "metadata": {},
   "source": [
    "# Model Preparation\n",
    "\n",
    "We'll split the data for the model into both X and y. X will contain the relevant image data and y will contain the response variable.\n",
    "\n",
    "Afterwards, we will split 80% of the data into training data, and 20% into test data.\n",
    "\n",
    "Here, I run a Pipeline prediction model to test. "
   ]
  },
  {
   "cell_type": "code",
   "execution_count": 42,
   "id": "424cd960",
   "metadata": {},
   "outputs": [],
   "source": [
    "'''We will now build our prediction model.\n",
    "A test size of 0.2 ensures that 20% of our sample will be used for testing.'''\n",
    "\n",
    "X = df2[['market', 'purpose', 'transformative', 'commercial', 'harm']]\n",
    "y = df2['outcome2']\n",
    "\n",
    "y_train = y_train.astype(int)\n",
    "\n",
    "from sklearn.model_selection import train_test_split\n",
    "X_train, X_test, y_train, y_test = train_test_split(X,y,test_size=0.2,random_state=10)"
   ]
  },
  {
   "cell_type": "code",
   "execution_count": 43,
   "id": "15e3ce83",
   "metadata": {},
   "outputs": [
    {
     "data": {
      "text/plain": [
       "0.55"
      ]
     },
     "execution_count": 43,
     "metadata": {},
     "output_type": "execute_result"
    }
   ],
   "source": [
    "X_train, X_test, y_train, y_test = train_test_split(X, y, test_size = 0.2, random_state=0)\n",
    "\n",
    "pipe = Pipeline([('scaler', StandardScaler()), ('svc', SVC(kernel = 'rbf', C = 10))])\n",
    "pipe.fit(X_train, y_train)\n",
    "pipe.score(X_test, y_test)"
   ]
  },
  {
   "cell_type": "markdown",
   "id": "81afc54b",
   "metadata": {},
   "source": [
    "# Model Building and Tuning"
   ]
  },
  {
   "cell_type": "code",
   "execution_count": 53,
   "id": "60f8a9bb",
   "metadata": {},
   "outputs": [
    {
     "data": {
      "text/html": [
       "<div>\n",
       "<style scoped>\n",
       "    .dataframe tbody tr th:only-of-type {\n",
       "        vertical-align: middle;\n",
       "    }\n",
       "\n",
       "    .dataframe tbody tr th {\n",
       "        vertical-align: top;\n",
       "    }\n",
       "\n",
       "    .dataframe thead th {\n",
       "        text-align: right;\n",
       "    }\n",
       "</style>\n",
       "<table border=\"1\" class=\"dataframe\">\n",
       "  <thead>\n",
       "    <tr style=\"text-align: right;\">\n",
       "      <th></th>\n",
       "      <th>model</th>\n",
       "      <th>best_score</th>\n",
       "      <th>best_params</th>\n",
       "    </tr>\n",
       "  </thead>\n",
       "  <tbody>\n",
       "    <tr>\n",
       "      <th>0</th>\n",
       "      <td>linear_regression</td>\n",
       "      <td>0.008144</td>\n",
       "      <td>{}</td>\n",
       "    </tr>\n",
       "    <tr>\n",
       "      <th>1</th>\n",
       "      <td>lasso</td>\n",
       "      <td>-0.002408</td>\n",
       "      <td>{}</td>\n",
       "    </tr>\n",
       "    <tr>\n",
       "      <th>2</th>\n",
       "      <td>svm</td>\n",
       "      <td>0.584677</td>\n",
       "      <td>{'svc__C': 1, 'svc__kernel': 'rbf'}</td>\n",
       "    </tr>\n",
       "    <tr>\n",
       "      <th>3</th>\n",
       "      <td>random_forest</td>\n",
       "      <td>0.578629</td>\n",
       "      <td>{'randomforestclassifier__n_estimators': 5}</td>\n",
       "    </tr>\n",
       "    <tr>\n",
       "      <th>4</th>\n",
       "      <td>logistic_regression</td>\n",
       "      <td>0.571976</td>\n",
       "      <td>{'logisticregression__C': 1}</td>\n",
       "    </tr>\n",
       "    <tr>\n",
       "      <th>5</th>\n",
       "      <td>naive_bayes</td>\n",
       "      <td>0.553427</td>\n",
       "      <td>{}</td>\n",
       "    </tr>\n",
       "    <tr>\n",
       "      <th>6</th>\n",
       "      <td>decision_tree</td>\n",
       "      <td>0.566129</td>\n",
       "      <td>{'decisiontreeclassifier__max_depth': None}</td>\n",
       "    </tr>\n",
       "    <tr>\n",
       "      <th>7</th>\n",
       "      <td>knn</td>\n",
       "      <td>0.559677</td>\n",
       "      <td>{'kneighborsclassifier__n_neighbors': 7, 'knei...</td>\n",
       "    </tr>\n",
       "    <tr>\n",
       "      <th>8</th>\n",
       "      <td>xgboost</td>\n",
       "      <td>0.603629</td>\n",
       "      <td>{'xgbclassifier__learning_rate': 0.01, 'xgbcla...</td>\n",
       "    </tr>\n",
       "  </tbody>\n",
       "</table>\n",
       "</div>"
      ],
      "text/plain": [
       "                 model  best_score  \\\n",
       "0    linear_regression    0.008144   \n",
       "1                lasso   -0.002408   \n",
       "2                  svm    0.584677   \n",
       "3        random_forest    0.578629   \n",
       "4  logistic_regression    0.571976   \n",
       "5          naive_bayes    0.553427   \n",
       "6        decision_tree    0.566129   \n",
       "7                  knn    0.559677   \n",
       "8              xgboost    0.603629   \n",
       "\n",
       "                                         best_params  \n",
       "0                                                 {}  \n",
       "1                                                 {}  \n",
       "2                {'svc__C': 1, 'svc__kernel': 'rbf'}  \n",
       "3        {'randomforestclassifier__n_estimators': 5}  \n",
       "4                       {'logisticregression__C': 1}  \n",
       "5                                                 {}  \n",
       "6        {'decisiontreeclassifier__max_depth': None}  \n",
       "7  {'kneighborsclassifier__n_neighbors': 7, 'knei...  \n",
       "8  {'xgbclassifier__learning_rate': 0.01, 'xgbcla...  "
      ]
     },
     "execution_count": 53,
     "metadata": {},
     "output_type": "execute_result"
    }
   ],
   "source": [
    "from sklearn.model_selection import GridSearchCV\n",
    "from sklearn.pipeline import make_pipeline\n",
    "from sklearn.preprocessing import StandardScaler\n",
    "from sklearn.naive_bayes import GaussianNB\n",
    "from sklearn.svm import SVC\n",
    "from sklearn.ensemble import RandomForestClassifier\n",
    "from sklearn.linear_model import LogisticRegression\n",
    "from sklearn import tree\n",
    "from sklearn.neighbors import KNeighborsClassifier\n",
    "from xgboost import XGBClassifier\n",
    "import pandas as pd\n",
    "\n",
    "y_train = y_train.astype(int)\n",
    "\n",
    "model_params = {\n",
    "    'linear_regression': {\n",
    "        'model': LinearRegression(),\n",
    "        'params': {}\n",
    "    },\n",
    "    'lasso': {\n",
    "        'model': Lasso(),\n",
    "        'params': {}\n",
    "    },\n",
    "    'svm': {\n",
    "        'model': SVC(probability=True),\n",
    "        'params': {\n",
    "            'svc__C': [1, 10, 100, 1000],\n",
    "            'svc__kernel': ['rbf', 'linear']\n",
    "        }\n",
    "    },\n",
    "    'random_forest': {\n",
    "        'model': RandomForestClassifier(),\n",
    "        'params': {\n",
    "            'randomforestclassifier__n_estimators': [1, 5, 10]\n",
    "        }\n",
    "    },\n",
    "    'logistic_regression': {\n",
    "        'model': LogisticRegression(solver='liblinear', multi_class='auto'),\n",
    "        'params': {\n",
    "            'logisticregression__C': [1, 5, 10]\n",
    "        }\n",
    "    },\n",
    "    'naive_bayes': {\n",
    "        'model': GaussianNB(),\n",
    "        'params': {}\n",
    "    },\n",
    "    'decision_tree': {\n",
    "        'model': tree.DecisionTreeClassifier(random_state=1),\n",
    "        'params': {\n",
    "            'decisiontreeclassifier__max_depth': [None, 5, 10]\n",
    "        }\n",
    "    },\n",
    "    'knn': {\n",
    "        'model': KNeighborsClassifier(),\n",
    "        'params': {\n",
    "            'kneighborsclassifier__n_neighbors': [3, 5, 7],\n",
    "            'kneighborsclassifier__weights': ['uniform', 'distance']\n",
    "        }\n",
    "    },\n",
    "    'xgboost': {\n",
    "        'model': XGBClassifier(),\n",
    "        'params': {\n",
    "            'xgbclassifier__learning_rate': [0.01, 0.1, 0.2],\n",
    "            'xgbclassifier__n_estimators': [50, 100, 200]\n",
    "        }\n",
    "    }\n",
    "}\n",
    "\n",
    "scores = []\n",
    "best_estimators = {}\n",
    "\n",
    "for algo, mp in model_params.items():\n",
    "    pipe = make_pipeline(StandardScaler(), mp['model'])\n",
    "    clf = GridSearchCV(pipe, mp['params'], cv=5, return_train_score=False)\n",
    "    clf.fit(X_train, y_train)\n",
    "    scores.append({\n",
    "        'model': algo,\n",
    "        'best_score': clf.best_score_,\n",
    "        'best_params': clf.best_params_\n",
    "    })\n",
    "    best_estimators[algo] = clf.best_estimator_\n",
    "\n",
    "scoreResults = pd.DataFrame(scores, columns=['model', 'best_score', 'best_params'])\n",
    "scoreResults"
   ]
  },
  {
   "cell_type": "code",
   "execution_count": 57,
   "id": "fc757159",
   "metadata": {},
   "outputs": [
    {
     "data": {
      "text/plain": [
       "0.55"
      ]
     },
     "execution_count": 57,
     "metadata": {},
     "output_type": "execute_result"
    }
   ],
   "source": [
    "best_estimators['svm'].score(X_test.astype(int), y_test.astype(int))"
   ]
  },
  {
   "cell_type": "code",
   "execution_count": 58,
   "id": "8e590fea",
   "metadata": {},
   "outputs": [
    {
     "data": {
      "text/plain": [
       "0.525"
      ]
     },
     "execution_count": 58,
     "metadata": {},
     "output_type": "execute_result"
    }
   ],
   "source": [
    "best_estimators['random_forest'].score(X_test.astype(int), y_test.astype(int))"
   ]
  },
  {
   "cell_type": "code",
   "execution_count": 59,
   "id": "7e73bf4b",
   "metadata": {
    "scrolled": true
   },
   "outputs": [
    {
     "data": {
      "text/plain": [
       "0.575"
      ]
     },
     "execution_count": 59,
     "metadata": {},
     "output_type": "execute_result"
    }
   ],
   "source": [
    "best_estimators['logistic_regression'].score(X_test.astype(int),y_test.astype(int))"
   ]
  },
  {
   "cell_type": "code",
   "execution_count": 60,
   "id": "600050d8",
   "metadata": {},
   "outputs": [
    {
     "data": {
      "text/plain": [
       "0.5"
      ]
     },
     "execution_count": 60,
     "metadata": {},
     "output_type": "execute_result"
    }
   ],
   "source": [
    "best_estimators['xgboost'].score(X_test.astype(int),y_test.astype(int))"
   ]
  },
  {
   "cell_type": "code",
   "execution_count": 62,
   "id": "6529ff06",
   "metadata": {},
   "outputs": [
    {
     "data": {
      "text/plain": [
       "array([[13,  1],\n",
       "       [19,  7]])"
      ]
     },
     "execution_count": 62,
     "metadata": {},
     "output_type": "execute_result"
    }
   ],
   "source": [
    "best_clf = best_estimators['xgboost']\n",
    "\n",
    "from sklearn.metrics import confusion_matrix\n",
    "cm = confusion_matrix(y_test.astype(int), best_clf.predict(X_test.astype(int)))\n",
    "cm"
   ]
  },
  {
   "cell_type": "code",
   "execution_count": 63,
   "id": "37c50acd",
   "metadata": {},
   "outputs": [
    {
     "data": {
      "text/plain": [
       "Text(95.72222222222221, 0.5, 'Truth')"
      ]
     },
     "execution_count": 63,
     "metadata": {},
     "output_type": "execute_result"
    },
    {
     "data": {
      "image/png": "[encoded data removed]",
      "text/plain": [
       "<Figure size 1000x700 with 2 Axes>"
      ]
     },
     "metadata": {},
     "output_type": "display_data"
    }
   ],
   "source": [
    "import seaborn as sn\n",
    "plt.figure(figsize = (10,7))\n",
    "sn.heatmap(cm, annot=True)\n",
    "plt.xlabel('Predicted')\n",
    "plt.ylabel('Truth')"
   ]
  },
  {
   "cell_type": "markdown",
   "id": "e055be63",
   "metadata": {},
   "source": [
    "# Key Takeaways\n",
    "\n",
    "**My initial hypothesis was proven to be correct**, that controlling for jurisdiction or issues faced in a fair use related case would not be sufficient to predict the outcome. That said, this investigation produced lots of useful information for the construction of prediction models that would work better.\n",
    "\n",
    "The questions asked in the beginning of the project are answered below:\n",
    "\n",
    "1. **For machine learning powered analyses of the law, what kinds of categorical or long-form text data can be converted to numerical data?**\n",
    "\n",
    "    I was pleasantly surprised to learn about the re method for this analysis, which allowed me to easily condense jurisdictions into their respective circuits, bring outcomes down to binary data, and most importantly, extract information about the issues considered in a holding. Case judgements can run around 50-80 pages, and for the construction of accurate prediction models, we'll need a way to condense these judgements into easily accessible outcomes. I believe that this can be done. Much of my study in law school was taking a judgement that held in that long range and condensing it down to its most salient points, which typically managed to capture most of the law discussed in a minutia of the space. \n",
    "\n",
    "2. **What might cause confusion for our prediction models in this area?**\n",
    "\n",
    "    Regarding differences in jurisdiction, as observed above, this training set had minimal samples per location and did not serve as a convincing marker of how outcomes change when varying jurisdiction. Thus, I chose not to train the data on this basis, as I knew that even if a model appeared to have predictive ability, its sources would not be valid. A better model would use a much larger sample size for each jurisdiction. \n",
    "\n",
    "    I did choose to predict on the basis of issues considered in the case, using dummy variables assigned to markers like a \"transformative\" use of the work; minimal market \"harm\" to the original, etc. Surprisingly, my models returned close to a 60% predictive ability, which is not far from a predictive ability of 70% achieved in a much more sophisticated model by Katz et al (2017), https://www.ncbi.nlm.nih.gov/pmc/articles/PMC5389610/, used to predict Supreme Court case outcomes. A fatal flaw in these determinations was the fact that while these issues were mentioned, the model did not check HOW these issues were discussed. This metric was difficult to assess, as dealing with several different jurisdictions and therefore a multitude of authors, it was difficult to find specific speech patterns that would lend themselves to a certain outcome. A better model would therefore employ Natural Language Processing to assess the speech patterns and connotations of the portion of holdings concerning fair use. \n",
    "\n",
    "    Additionally, the small sample size of this dataset made me curious as to its source, given that there are definitely more than a few copyright cases a year. I realized, through recognizing the formatting, that this dataset had been scraped from summaries provided by the US Copyright Office, at https://www.copyright.gov/fair-use/. A feature of the limited cases selected by the Copyright Office in this set is their innovation on the law; these cases, in particular, are therefore made more difficult to predict than others because they do something differently. A better model would train with similar cases that have not entailed large-scale changes in the law. I suspect that this is why SCOTUS prediction models can perform well but imperfectly, as each case in that bracket necessarily entails a large change in the law, and the observation is made unique. \n",
    "\n",
    "3. **What kinds of prediction models generally perform well for this type of analysis?**\n",
    "\n",
    "    Surprisingly, all of the models I tested (with the exception of Linear Regression and Lasso, which I expected to do poorly on this kind of data) performed similarly, with predictive ability around the 60% mark. I believe that XGBoost did slightly better than others due to its tree pruning feature, allowing the model to iterate and isolate the most important nodes within the list of Fair Use issues that come up. As mentioned, while the 4-question framework remains the same in fair use calculations, certain facets of the framework are often given more importance than others. "
   ]
  }
 ],
 "metadata": {
  "kernelspec": {
   "display_name": "Python 3 (ipykernel)",
   "language": "python",
   "name": "python3"
  },
  "language_info": {
   "codemirror_mode": {
    "name": "ipython",
    "version": 3
   },
   "file_extension": ".py",
   "mimetype": "text/x-python",
   "name": "python",
   "nbconvert_exporter": "python",
   "pygments_lexer": "ipython3",
   "version": "3.11.5"
  }
 },
 "nbformat": 4,
 "nbformat_minor": 5
}
